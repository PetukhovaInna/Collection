{
 "cells": [
  {
   "cell_type": "markdown",
   "metadata": {},
   "source": [
    "# Enum\n",
    "Enum — это один из модулей языка Python, с английского дословно переводится, как перечисление, что полностью отражает суть модуля.\n",
    "Перечисления — это набор ограниченных неизменяемых значений, которые можно присвоить переменной. "
   ]
  },
  {
   "cell_type": "markdown",
   "metadata": {},
   "source": [
    "Перечисления создаются с использованием синтаксиса классов. Это упрощает их чтение и написание. Пример:"
   ]
  },
  {
   "cell_type": "code",
   "execution_count": 2,
   "metadata": {},
   "outputs": [
    {
     "name": "stdout",
     "output_type": "stream",
     "text": [
      "Sequences.list\n",
      "tuple\n",
      "3\n"
     ]
    }
   ],
   "source": [
    "from enum import Enum\n",
    "class Sequences(Enum): # Создаем класс Sequences, родительским классом \n",
    "    list = 1           # которого является класс Enum\n",
    "    tuple = 2\n",
    "    dict = 3\n",
    "print(Sequences.list) # выводим значения\n",
    "print(Sequences.tuple.name)\n",
    "print(Sequences.dict.value)"
   ]
  },
  {
   "cell_type": "markdown",
   "metadata": {},
   "source": [
    "Можно не прописывать значения элементов, вместо этого можно использовать функцию auto(), которая автоматически присваивает элементу значение “1”, а каждому последующему — значение на единицу больше:"
   ]
  },
  {
   "cell_type": "code",
   "execution_count": 5,
   "metadata": {},
   "outputs": [
    {
     "name": "stdout",
     "output_type": "stream",
     "text": [
      "3\n"
     ]
    }
   ],
   "source": [
    "from enum import Enum, auto\n",
    "class Sequences(Enum):\n",
    "    list = auto()  # 1\n",
    "    tuple = auto() # 1 + 1 = 2\n",
    "    dict = auto() # 2 + 1 = 3\n",
    "    print (Sequences.dict.value)"
   ]
  },
  {
   "cell_type": "markdown",
   "metadata": {},
   "source": [
    "# Свойства\n",
    "Поддержка итераций.\n",
    "Перечисления — это итерируемые объекты, это значит, что все элементы можно перебрать в цикле. Пример:"
   ]
  },
  {
   "cell_type": "code",
   "execution_count": 7,
   "metadata": {},
   "outputs": [
    {
     "name": "stdout",
     "output_type": "stream",
     "text": [
      "Num.one\n",
      "Num.two\n",
      "Num.three\n"
     ]
    }
   ],
   "source": [
    "from enum import Enum\n",
    "class Num(Enum):\n",
    "    one = 1\n",
    "    two = 2\n",
    "    three = 3\n",
    "for n in Num:\n",
    "    print(n)"
   ]
  },
  {
   "cell_type": "markdown",
   "metadata": {},
   "source": [
    "# Хэшируемость\n",
    "Элементы перечисления хэшируемые. То есть можно использовать их в словарях и множествах. Хэш позволяет создавать высокопроизводительные структуры, используя хэш-функции для сокращения объема данных."
   ]
  },
  {
   "cell_type": "code",
   "execution_count": 9,
   "metadata": {},
   "outputs": [
    {
     "name": "stdout",
     "output_type": "stream",
     "text": [
      "{<Color.BLUE: 1>: 'blue', <Color.BLACK: 2>: 'black'}\n"
     ]
    }
   ],
   "source": [
    "from enum import Enum\n",
    "class Color(Enum):\n",
    "    BLUE = 1\n",
    "    BLACK = 2\n",
    "    BROWN = 3\n",
    "apples = {}\n",
    "apples[Color.BLUE] = 'blue'\n",
    "apples[Color.BLACK] = 'black'\n",
    "print(apples)"
   ]
  },
  {
   "cell_type": "markdown",
   "metadata": {},
   "source": [
    "# Создание методов\n",
    "Можно полностью вывести элемент перечисления, либо вывести его имя, либо вывести его значение. Для того чтобы упростить это, можно самостоятельно создать в перечислении метод. Пример:"
   ]
  },
  {
   "cell_type": "code",
   "execution_count": 10,
   "metadata": {},
   "outputs": [
    {
     "name": "stdout",
     "output_type": "stream",
     "text": [
      "Имя - IGOR, значение - 1\n"
     ]
    }
   ],
   "source": [
    "from enum import Enum\n",
    "class Students(Enum):\n",
    "    IGOR = 1\n",
    "    SERGEY = 2\n",
    "    VASYA = 3\n",
    "    def info(self):\n",
    "        print(\"Имя - %s, значение - %s\"%(self.name, self.value))\n",
    "Students.IGOR.info()\n"
   ]
  },
  {
   "cell_type": "markdown",
   "metadata": {},
   "source": [
    "Таким образом код вывода сокращается в два раза. Вместо того чтобы каждый раз писать Students.элемент.name и Students.элемент.value, программист просто вызывает метод info()."
   ]
  },
  {
   "cell_type": "markdown",
   "metadata": {},
   "source": [
    "Задание:\n",
    "Создать 5 перечислений с использованием синтаксиса класса fruit, с автоматическим присваиванием значением элементов."
   ]
  }
 ],
 "metadata": {
  "kernelspec": {
   "display_name": "Python 3",
   "language": "python",
   "name": "python3"
  },
  "language_info": {
   "codemirror_mode": {
    "name": "ipython",
    "version": 3
   },
   "file_extension": ".py",
   "mimetype": "text/x-python",
   "name": "python",
   "nbconvert_exporter": "python",
   "pygments_lexer": "ipython3",
   "version": "3.8.3"
  }
 },
 "nbformat": 4,
 "nbformat_minor": 4
}
